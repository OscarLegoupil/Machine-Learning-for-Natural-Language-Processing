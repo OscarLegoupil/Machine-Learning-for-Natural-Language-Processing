{
 "cells": [
  {
   "cell_type": "markdown",
   "metadata": {},
   "source": [
    "## Text classification on LeMonde2003 Dataset\n",
    "\n",
    "In this notebook, we \n",
    "apply classification algorithms to newspaper articles published in 2003 in *Le Monde*. \n",
    "\n",
    "The data are here : https://cloud.teklia.com/index.php/s/isNwnwA7a7AWst6/download/LeMonde2003_9classes.csv.gz\n",
    "\n",
    "Download it into the data directory : \n",
    "\n",
    "```\n",
    "wget https://cloud.teklia.com/index.php/s/isNwnwA7a7AWst6/download/LeMonde2003_9classes.csv.gz\n",
    "```\n",
    "\n",
    "Or you can download the file directly from the URL in pandas with `pd.read_csv(url)`.`\n",
    "\n",
    "These articles concern different subjects but we will consider only articles related to the following subjects : entreprises (ENT), international (INT), arts (ART), société (SOC), France (FRA), sports (SPO), livres (LIV), télévision (TEL) and the font page articles (UNE).\n",
    "\n",
    "\n",
    "> * Load the CSV file `LeMonde2003_9classes.csv.gz` containing the articles using pandas [pd.read_csv](https://pandas.pydata.org/pandas-docs/stable/reference/api/pandas.read_csv.html). How many articles do you have ? \n",
    "> * Plot the frequency histogram of the categories using seaborn [countplot](https://seaborn.pydata.org/tutorial/categorical.html) : `sns.countplot(data=df,y='category')`\n",
    "> * Display the text of some of the article with the corresponding class using pandas [sample](https://pandas.pydata.org/pandas-docs/stable/reference/api/pandas.DataFrame.sample.html)\n",
    "> * Using the [WordCloud library](https://amueller.github.io/word_cloud/index.html), display a word cloud for the most frequent classes. You can remove the stop words using the `stopwords` option, using the list of stop words in French in `data/stop_word_fr.txt` or from the URL https://cloud.teklia.com/index.php/s/3mwZfSre4PmJcdb/download/stop_word_fr.txt\n",
    "\n"
   ]
  },
  {
   "cell_type": "code",
   "execution_count": 7,
   "metadata": {},
   "outputs": [
    {
     "name": "stdout",
     "output_type": "stream",
     "text": [
      "7\n"
     ]
    }
   ],
   "source": [
    "import pandas as pd\n",
    "\n",
    "# load dataframe from CSV file\n",
    "# YOUR CODE HERE\n",
    "\n",
    "data = pd.read_csv(\"https://cloud.teklia.com/index.php/s/isNwnwA7a7AWst6/download/LeMonde2003_9classes.csv.gz\")\n",
    "\n",
    "num_categories = data['category'].nunique()\n",
    "\n",
    "\n",
    "# 7 categories\n",
    "print(num_categories) "
   ]
  },
  {
   "cell_type": "code",
   "execution_count": 9,
   "metadata": {},
   "outputs": [
    {
     "data": {
      "text/html": [
       "<div>\n",
       "<style scoped>\n",
       "    .dataframe tbody tr th:only-of-type {\n",
       "        vertical-align: middle;\n",
       "    }\n",
       "\n",
       "    .dataframe tbody tr th {\n",
       "        vertical-align: top;\n",
       "    }\n",
       "\n",
       "    .dataframe thead th {\n",
       "        text-align: right;\n",
       "    }\n",
       "</style>\n",
       "<table border=\"1\" class=\"dataframe\">\n",
       "  <thead>\n",
       "    <tr style=\"text-align: right;\">\n",
       "      <th></th>\n",
       "      <th>text</th>\n",
       "      <th>category</th>\n",
       "    </tr>\n",
       "  </thead>\n",
       "  <tbody>\n",
       "    <tr>\n",
       "      <th>0</th>\n",
       "      <td>a la boutique du fulham fc nichée au dernier é...</td>\n",
       "      <td>SPO</td>\n",
       "    </tr>\n",
       "    <tr>\n",
       "      <th>1</th>\n",
       "      <td>pour la plupart de ceux qui n'y vivent pas la ...</td>\n",
       "      <td>ART</td>\n",
       "    </tr>\n",
       "    <tr>\n",
       "      <th>2</th>\n",
       "      <td>la perspective d'une enquête judiciaire sur la...</td>\n",
       "      <td>FRA</td>\n",
       "    </tr>\n",
       "    <tr>\n",
       "      <th>3</th>\n",
       "      <td>le tribunal administratif de limoges a annulé ...</td>\n",
       "      <td>SOC</td>\n",
       "    </tr>\n",
       "    <tr>\n",
       "      <th>4</th>\n",
       "      <td>des avions américains et britanniques ont bomb...</td>\n",
       "      <td>INT</td>\n",
       "    </tr>\n",
       "  </tbody>\n",
       "</table>\n",
       "</div>"
      ],
      "text/plain": [
       "                                                text category\n",
       "0  a la boutique du fulham fc nichée au dernier é...      SPO\n",
       "1  pour la plupart de ceux qui n'y vivent pas la ...      ART\n",
       "2  la perspective d'une enquête judiciaire sur la...      FRA\n",
       "3  le tribunal administratif de limoges a annulé ...      SOC\n",
       "4  des avions américains et britanniques ont bomb...      INT"
      ]
     },
     "execution_count": 9,
     "metadata": {},
     "output_type": "execute_result"
    }
   ],
   "source": [
    "data.head()"
   ]
  },
  {
   "cell_type": "code",
   "execution_count": 10,
   "metadata": {},
   "outputs": [
    {
     "data": {
      "image/png": "[encoded data removed]",
      "text/plain": [
       "<Figure size 640x480 with 1 Axes>"
      ]
     },
     "metadata": {},
     "output_type": "display_data"
    }
   ],
   "source": [
    "import seaborn as sns\n",
    "import matplotlib.pyplot as plt\n",
    "%matplotlib inline\n",
    "\n",
    "sns.countplot(data=data, y='category', order=data['category'].value_counts().index)\n",
    "\n",
    "plt.title(\"Distribution of Articles by Category\", fontsize=14)\n",
    "\n",
    "\n",
    "plt.show()"
   ]
  },
  {
   "cell_type": "code",
   "execution_count": 11,
   "metadata": {},
   "outputs": [
    {
     "name": "stdout",
     "output_type": "stream",
     "text": [
      "      category  \\\n",
      "16087      ENT   \n",
      "19724      ART   \n",
      "25655      INT   \n",
      "\n",
      "                                                                                                                                                                                                                                                                                                                                                                                                                                                                                                                                                                                                                                                                                                                                                                                                                                                                                                                                                                                                                                                                                                                                                                                                                                                                                                                                                                                                                                                                                                                                                                                                                                                                                                                                                                                                                                                                                                                                                                                                                                                                                                                                                                                                                                                                                                                                                                                                                                                                                                                                                                                                                                                                                                                                                                                                                                                                                                                                                                                                                                                                                                                                                                                                                                                                                                                                                                                                                                                                                                                                                                                                                                                                                                                                                                                                                                                                                                                                                                                                                                                                                                                                                                                                                                                                                                                                                                                                                                                                                                                                                                                                                                                                                                                                                                                                                                                                                                                                                                                                                text  \n",
      "16087                                                                                                                                                                                                                                                                                                                                                                                                                                                                                                                                                                                                                                                                                                                                                                                                                                                                                                                                                                                                                                                                                                                                                                                                                                                                                                                                                                                                                                                                                                                                                                                                                                                                                                                                                                                                                                                                                                                                                                                                                                                                                                                                                                                                                                                                                                                                                                                                                                                                                                                                                                                                                                                                                                                                                                                                                                                                                                                                                                                                                                                                                                                                                                                                                                                                                                                                                                                                                                                                                                                                                                                                                                                                                                                                                                                                                                                                                                                                                                                                                                                                                                                                                                                                                                                                                                                                                                                                                                                                                                                                                                                                                                                                                                                                                  la compagnie d'assurances a annoncé vendredi 27 juin une perte nette de 88,4 millions d'euros en 2002 contre un bénéfice net de 106,61 millions d'euros un an plus tôt sous l'effet d'une très forte sinistralité et d'une provision de 76,9 millions d'euros  \n",
      "19724  un nouveau lieu d'exposition sera inauguré jeudi 6 novembre à paris 30 bis rue de paradis dans le 10e arrondissement avec une présentation de 80 oeuvres de la collection de l'héritière de jacqueline picasso la dernière épouse de l'artiste baptisée pinacothèque de paris l'endroit était auparavant consacré aux collections du musée baccarat transférées place des etats-unis l'espace est vaste 4 000 m2 sur deux étages surplombés de verrières ouvert et lumineux décoré dans le goût du second empire le rez-de-chaussée doit accueillir des collections permanentes constituées de dépôts à long terme de collectionneurs privés un français deux suisses et deux américains auraient pour l'instant donné leur accord le premier étage étant dévolu aux expositions temporaires plus un espace restauration élaboré excusez du peu par alain ducasse qui réfléchira à des mets en rapport avec l'exposition mais dans le contexte français l'originalité de cette pinacothèque est d'être entièrement financée par des fonds privés son créateur marc restellini 38 ans est historien d'art il a travaillé avec sylvestre verger et patricia nitti le monde du 10 avril 2003 au musée du luxembourg où il a organisé de nombreuses expositions dont celle consacrée à modigliani qui fut avec 587 000 visiteurs un remarquable succès public c'est fort de cette expérience de gestion privée d'un lieu culturel qu'il a décidé de franchir le pas pour un coût estimé à environ 7 millions d'euros un montage financier réalisé avec les banques et un organisme public chargé de garantir les projets culturels lui a permis d'acquérir pour un peu plus de 1 500 euros du mètre carré un lieu immédiatement opérationnel puisque déjà conçu pour des expositions publiques le modèle a été étudié par deux spécialistes de l'économie dont c'était la première incursion dans le domaine culturel le suisse pierre broye et philippe claude un spécialiste des joint-ventures de capital-risque qui ont conclu à la viabilité du projet structure commerciale pour marc restellini dès l'instant que les structures sont saines petites et correctement gérées on peut arriver à un équilibre permettant non seulement de financer un lieu comme celui-ci mais également de tirer des bénéfices qui eux-mêmes favoriseront l'élaboration d'autres projets nous avons donc une structure commerciale une partie du chiffre d'affaires sera reversée à une fondation qui elle aura une logique patrimoniale cette deuxième structure permettra en outre de solliciter des prêts d'institutions qui rechigneraient à traiter avec une entreprise privée et de regretter que l'exposition van gogh gauguin d'amsterdam ne soit pas venue en france comme tant d'autres et de rêver au jour où son lieu pourra accueillir ce genre d'événement la clé de son projet repose sur la circulation des expositions il a d'abord cherché un lieu à new york et reste en tractations avec les propriétaires du guggenheim de soho comme avec les responsables d'un musée japonais c'est une logique industrielle sur le modèle du cinéma production d'une exposition et distribution dans plusieurs lieux en effet une exposition voit son coût diminuer de 20 à 30 à chaque étape une itinérance sur quatre sites différents permet donc un bénéfice d'au moins 60 par rapport à la même exposition dans un seul endroit le réseau international sera le bras moteur le bras stratégique du projet après l'exposition picasso qui doit durer cinq mois marc restellini prévoit un programme très grand public citant klimt munch soutine mais aussi les chefs- d'oeuvre inconnus de monet ou renoir malgré ou à cause du succès de ses expositions son record est de 800 000 visiteurs au japon pour une rétrospective de renoir en 1993 on lui a beaucoup reproché l'aspect spectaculaire de ses scénographies sans complexe il le revendique elles suscitent certes le débat ce qui est toujours mieux qu'un consensus mou mais en attendant elles plaisent c'est du théâtre mon rôle c'est de mettre mes oeuvres en valeur cela passe par de l'artifice quant à montrer de l'art contemporain marc restellini est plus prudent je ne maîtrise pas encore suffisamment intellectuellement mais plus je les vois plus j'y prends goût et je les découvre cela m'effraie un peu parce que je ne suis pas sûr de la rentabilité économique aujourd'hui d'une exposition d'art contemporain mais le pari vaut d'être tenté ne serait-ce que dans le cadre d'une nouvelle biennale à paris qui est un projet auquel je crois beaucoup tout dépend comment on le montre comment on tente de le faire comprendre aux gens l'histoire de l'art quoi qu'on en pense consiste aussi à raconter des histoires la mise en scène rarement appréciée par ailleurs par certains peut aider à provoquer ce déclic ce serait suicidaire de le faire dès maintenant mais dans cinq ans je pense que ce sera envisageable  \n",
      "25655                                                                                                                                                                                                                                                                                                                                                                                                                                                                                                                                                                                                                                                                                                                                                                    le gouvernement belge a décidé samedi 21 juin de procéder à une nouvelle modification de sa loi de compétence universelle une disposition originale qui permet aux tribunaux de juger des crimes de guerre de génocide et contre l'humanité quels que soient la nationalité de leur auteur et le lieu où ils ont été commis exposées à de nombreuses critiques notamment américaines et israéliennes les autorités belges ont décidé de restreindre considérablement la portée de ce texte et d'exclure désormais les pays démocratiques de son champ d'application le nouveau projet évoque un critère de rattachement avec la belgique la loi ne s'appliquera plus que si l'auteur présumé des faits est belge ou si la victime est belge ou si elle vit depuis trois ans au moins dans le royaume les tribunaux ne pourront plus s'occuper de faits dont l'auteur est issu d'un pays démocratique garantissant la tenue d'un procès équitable la loi intégrera aussi les règles d'immunité retenues par le droit international pour les dirigeants politiques et les responsables militaires enfin l'équipe du premier ministre guy verhofstadt revient sur une disposition qu'elle avait adoptée en avril en renonçant au filtrage politique des plaintes dorénavant le gouvernement ne devrait plus interférer dans la procédure c'est un haut magistrat le premier président de la cour d'appel qui décidera souverainement et en dernier ressort si une plainte peut être enregistrée ou non selon l'avant-dernière version du texte c'est le conseil des ministres qui pouvait décider de renvoyer la plainte vers le pays d'origine engagés dans des négociations pour la formation d'un nouveau gouvernement les partis libéraux et socialistes flamands et francophones ont dû s'occuper en priorité du dossier de la compétence universelle washington avait en effet menacé la belgique de ne pas financer la construction du nouveau siège de l'otan dans la banlieue de bruxelles le 13 mai donald rumsfeld le secrétaire américain à la défense s'était en effet demandé si la belgique pouvait continuer à assumer son rôle d'hôte alors que son arsenal législatif permettait notamment de traduire en justice des responsables américains deux plaintes avaient été déposées contre plusieurs personnalités pour leur implication dans les guerres en irak en 1991 et 2003 le renvoi de ces dossiers vers la justice américaine n'avait pas calmé certains faucons de l'administration bush d'autant que la semaine dernière trois nouvelles actions étaient intentées contre george bush tony blair et d'autres dirigeants impliqués dans la récente invasion de l'irak philippe reeker le porte-parole adjoint du département d'etat avait du coup plaidé sans ménagement pour l'abandon d ' une loi qui ne marche pas la situation s'est compliquée un peu plus quand un responsable belge de haut niveau a lui aussi pour la première fois été l'objet d'une plainte louis michel le ministre des affaires étrangères a été incriminé par la nouvelle alliance flamande nva un petit parti nationaliste pour avoir autorisé en 2002 la vente d'armes au régime népalais engagé dans une lutte contre une guérilla maoïste farouche défenseur de la loi m. michel devait concéder qu'elle pouvait conduire à des abus il convenait donc selon m. michel de procéder à un ciblage qui préserverait une disposition juridique qui a toute sa raison d'être m. verhofstadt a estimé dimanche que ce travail avait été accompli et que les adaptations intervenues n'avaient pas été décidées sous la pression ce n'est pas l'avis de certains observateurs belges ou d'organisations non gouvernementales selon reef brody un responsable de human rights watch cité par l'afp le gouvernement belge a agi sous l'effet d'une pression irrationnelle du gouvernement des etats-unis et renié ses principes fondamentaux evoquant l'instauration d ' une politique des deux poids deux mesures m. brody critique la distinction qui sera opérée entre etats démocratiques et non démocratiques soulignant qu ' israël est une démocratie mais que les victimes de sabra et chatila n'y ont pas pour autant trouvé justice  \n"
     ]
    }
   ],
   "source": [
    "# Print examples of the articles\n",
    "pd.set_option('display.max_colwidth', None)\n",
    "\n",
    "examples_articles = data.sample(3)  \n",
    "print(examples_articles[['category', 'text']]) \n"
   ]
  },
  {
   "cell_type": "code",
   "execution_count": 17,
   "metadata": {},
   "outputs": [
    {
     "name": "stdout",
     "output_type": "stream",
     "text": [
      "Collecting wordcloud\n",
      "  Downloading wordcloud-1.9.4-cp312-cp312-manylinux_2_17_x86_64.manylinux2014_x86_64.whl.metadata (3.4 kB)\n",
      "Requirement already satisfied: numpy>=1.6.1 in /opt/conda/lib/python3.12/site-packages (from wordcloud) (2.2.2)\n",
      "Requirement already satisfied: pillow in /opt/conda/lib/python3.12/site-packages (from wordcloud) (11.1.0)\n",
      "Requirement already satisfied: matplotlib in /opt/conda/lib/python3.12/site-packages (from wordcloud) (3.10.0)\n",
      "Requirement already satisfied: contourpy>=1.0.1 in /opt/conda/lib/python3.12/site-packages (from matplotlib->wordcloud) (1.3.1)\n",
      "Requirement already satisfied: cycler>=0.10 in /opt/conda/lib/python3.12/site-packages (from matplotlib->wordcloud) (0.12.1)\n",
      "Requirement already satisfied: fonttools>=4.22.0 in /opt/conda/lib/python3.12/site-packages (from matplotlib->wordcloud) (4.55.8)\n",
      "Requirement already satisfied: kiwisolver>=1.3.1 in /opt/conda/lib/python3.12/site-packages (from matplotlib->wordcloud) (1.4.8)\n",
      "Requirement already satisfied: packaging>=20.0 in /opt/conda/lib/python3.12/site-packages (from matplotlib->wordcloud) (24.2)\n",
      "Requirement already satisfied: pyparsing>=2.3.1 in /opt/conda/lib/python3.12/site-packages (from matplotlib->wordcloud) (3.2.1)\n",
      "Requirement already satisfied: python-dateutil>=2.7 in /opt/conda/lib/python3.12/site-packages (from matplotlib->wordcloud) (2.9.0.post0)\n",
      "Requirement already satisfied: six>=1.5 in /opt/conda/lib/python3.12/site-packages (from python-dateutil>=2.7->matplotlib->wordcloud) (1.17.0)\n",
      "Downloading wordcloud-1.9.4-cp312-cp312-manylinux_2_17_x86_64.manylinux2014_x86_64.whl (539 kB)\n",
      "\u001b[2K   \u001b[90m━━━━━━━━━━━━━━━━━━━━━━━━━━━━━━━━━━━━━━━━\u001b[0m \u001b[32m539.2/539.2 kB\u001b[0m \u001b[31m9.3 MB/s\u001b[0m eta \u001b[36m0:00:00\u001b[0m\n",
      "Installing collected packages: wordcloud\n",
      "Successfully installed wordcloud-1.9.4\n"
     ]
    }
   ],
   "source": [
    "!pip install wordcloud"
   ]
  },
  {
   "cell_type": "code",
   "execution_count": 13,
   "metadata": {},
   "outputs": [
    {
     "ename": "ModuleNotFoundError",
     "evalue": "No module named 'wordcloud'",
     "output_type": "error",
     "traceback": [
      "\u001b[0;31m---------------------------------------------------------------------------\u001b[0m",
      "\u001b[0;31mModuleNotFoundError\u001b[0m                       Traceback (most recent call last)",
      "Cell \u001b[0;32mIn[13], line 1\u001b[0m\n\u001b[0;32m----> 1\u001b[0m \u001b[38;5;28;01mfrom\u001b[39;00m\u001b[38;5;250m \u001b[39m\u001b[38;5;21;01mwordcloud\u001b[39;00m\u001b[38;5;250m \u001b[39m\u001b[38;5;28;01mimport\u001b[39;00m WordCloud\n\u001b[1;32m      2\u001b[0m \u001b[38;5;66;03m# Display one wordcloud for each of the most frequent classes\u001b[39;00m\n\u001b[1;32m      4\u001b[0m \u001b[38;5;28;01mfrom\u001b[39;00m\u001b[38;5;250m \u001b[39m\u001b[38;5;21;01mwordcloud\u001b[39;00m\u001b[38;5;250m \u001b[39m\u001b[38;5;28;01mimport\u001b[39;00m WordCloud\n",
      "\u001b[0;31mModuleNotFoundError\u001b[0m: No module named 'wordcloud'"
     ]
    }
   ],
   "source": [
    "from wordcloud import WordCloud\n",
    "# Display one wordcloud for each of the most frequent classes\n",
    "\n",
    "from wordcloud import WordCloud\n",
    "STOPWORDS = [x.strip() for x in open('data/stop_word_fr.txt').readlines()]\n",
    "import matplotlib.pyplot as plt\n",
    "\n",
    "# plot a word cloud for each category\n",
    "for cat in ['ENT', 'INT',  'ART', 'SOC', 'FRA']:\n",
    "\n",
    "    text_data = \" \".join(data[data['category'] == cat]['text']) \n",
    "    \n",
    "\n",
    "    wordcloud = WordCloud(stopwords=STOPWORDS, background_color='white', width=800, height=400).generate(text_data)\n",
    "    \n",
    "    plt.figure(figsize=(10, 5))\n",
    "    plt.imshow(wordcloud, interpolation='bilinear')\n",
    "    plt.axis(\"off\")  # Hide axes\n",
    "    plt.title(f\"Word Cloud for {cat}\", fontsize=14)\n",
    "    plt.show()"
   ]
  },
  {
   "cell_type": "markdown",
   "metadata": {},
   "source": [
    "## Bag-of-word representation\n",
    "\n",
    "In order to apply machine learning algorithms to text, documents must be transformed into vectors. The most simple and standard way to transform a document into a vector is the *bag-of-word* encoding.\n",
    "\n",
    "The idea is very simple : \n",
    "\n",
    "1. define the set of all the possible words that can appear in a document; denote its size by `max_features`.\n",
    "2. for each document,  encode it with a vector of size `max_features`, with the value of the ith component of the vector equal to the number of time the ith word appears in the document.\n",
    "\n",
    "See [the wikipedia article on Bag-of-word](https://en.wikipedia.org/wiki/Bag-of-words_model) for an example.\n",
    "\n",
    "Scikit-learn proposes different methods to encode text into vectors : [CountVectorizer](http://scikit-learn.org/stable/modules/generated/sklearn.feature_extraction.text.CountVectorizer.html) and [TfidfTransformer](http://scikit-learn.org/stable/modules/generated/sklearn.feature_extraction.text.TfidfTransformer.html).\n",
    "\n",
    "The encoder must first be trained on the train set and applied to the different sets, for example with the 200  words : \n",
    "\n",
    "\tfrom sklearn.feature_extraction.text import CountVectorizer\n",
    "\tvectorizer = CountVectorizer(max_features=200)\n",
    "    vectorizer.fit(X_train)\n",
    "    X_train_counts = vectorizer.transform(X_train)\n",
    "    X_test_counts = vectorizer.transform(X_test)\n",
    "        \n",
    "**Question**:\n",
    "\n",
    "> * Split the dataset LeMonde2003 into train set (80%), dev set (10%)  and test set (10%) using scikit-learn [train_test_split](http://scikit-learn.org/stable/modules/generated/sklearn.model_selection.train_test_split.html)\n",
    "> * For each set, transform the text of the articles into vectors using the `CountVectorizer`, considering the 1000 most frequent words. \n",
    "> * Train a naive bayes classifier on the data. \n",
    "> * Evaluate the classification accuracy on the train, dev and test sets using the [score](https://scikit-learn.org/stable/modules/generated/sklearn.naive_bayes.MultinomialNB.html#sklearn.naive_bayes.MultinomialNB.score) method. \n",
    "\n",
    "> ***Important*** : the test set must not be used during the training phase, and learning the vector representation of the words is part of the training. The dev set should be an evaluation of the test set.\n",
    "\n"
   ]
  },
  {
   "cell_type": "code",
   "execution_count": null,
   "metadata": {},
   "outputs": [],
   "source": [
    "from sklearn.model_selection import train_test_split\n",
    "# Split the dataset, create X (features) and y (target), print the size\n",
    "\n",
    "\n",
    "X = data['text']  \n",
    "y = data['category']\n",
    "\n",
    "X_train, X_temp, y_train, y_temp = train_test_split(X, y, test_size=0.2, random_state=42, stratify=y)\n",
    "\n",
    "X_dev, X_test, y_dev, y_test = train_test_split(X_temp, y_temp, test_size=0.5, random_state=42, stratify=y_temp)\n",
    "\n",
    "\n",
    "print(f\"Training set size: {len(X_train)}\")\n",
    "print(f\"Development set size: {len(X_dev)}\")\n",
    "print(f\"Test set size: {len(X_test)}\")\n",
    "\n"
   ]
  },
  {
   "cell_type": "code",
   "execution_count": null,
   "metadata": {},
   "outputs": [],
   "source": [
    "from sklearn.feature_extraction.text import CountVectorizer\n",
    "# Create document vectors\n",
    "\n",
    "# create the vectorizer object\n",
    "vectorizer = CountVectorizer(max_features=1000)\n",
    "# fit on train data\n",
    "vectorizer.fit(X_train)\n",
    "# apply it on train and dev data\n",
    "X_train_vec = vectorizer.transform(X_train)\n",
    "X_dev_vec = vectorizer.transform(X_dev)\n",
    "\n",
    "\n"
   ]
  },
  {
   "cell_type": "code",
   "execution_count": null,
   "metadata": {},
   "outputs": [],
   "source": [
    "from sklearn.naive_bayes import MultinomialNB\n",
    "from sklearn.metrics import accuracy_score\n",
    "\n",
    "# train a Naive Bayes classifier\n",
    "\n",
    "\n",
    "# create the MultinomialNB\n",
    "nb_classifier = MultinomialNB()\n",
    "# Train \n",
    "nb_classifier.fit(X_train_vec, y_train)\n",
    "# Evaluate \n",
    "\n",
    "y_dev_pred = nb_classifier.predict(X_dev_vec)\n",
    "\n",
    "accuracy = accuracy_score(y_dev, y_dev_pred)\n",
    "\n",
    "\n",
    "print(f\"Development Set Accuracy: {accuracy:.4f}\")"
   ]
  },
  {
   "cell_type": "markdown",
   "metadata": {},
   "source": [
    "## TF-IDF representation\n",
    "\n",
    "The `CountVectorizer` encodes the text using the raw frequencies of the words. However, words that are very frequent and appear in all the documents will have a strong weight whereas they are not discriminative. The *Term-Frequency Inverse-Document-Frequency* weighting scheme take into accound the number of documents in which a given word occurs. A word that appear in many document will have less weight. See [the wikipedia page](https://en.wikipedia.org/wiki/Tf%E2%80%93idf) for more details.\n",
    "\n",
    "With scikit-learn, the `TfidfTransformer` is applied after the `CountVectorizer` :\n",
    "\n",
    "\tfrom sklearn.feature_extraction.text import TfidfTransformer\n",
    "\ttf_transformer = TfidfTransformer().fit(X_train_counts)\n",
    " \tX_train_tf = tf_transformer.transform(X_train_counts)\n",
    "\tX_test_tf = tf_transformer.transform(X_test_counts)\n",
    "\t\n",
    "**Question**:\n",
    "\n",
    "> * Use the TF-IDF representation to train a Multinomial Naive Bayes classifier. Report your best test error rate and the error rates for all the configurations tested."
   ]
  },
  {
   "cell_type": "code",
   "execution_count": null,
   "metadata": {},
   "outputs": [],
   "source": [
    "from sklearn.feature_extraction.text import TfidfTransformer\n",
    "from sklearn.feature_extraction.text import CountVectorizer\n",
    "from sklearn.naive_bayes import MultinomialNB\n",
    "from sklearn.metrics import accuracy_score, classification_report\n",
    "\n",
    "\n",
    "count_vectorizer = CountVectorizer(max_features=1000)  \n",
    "X_train_counts = count_vectorizer.fit_transform(X_train)\n",
    "X_dev_counts = count_vectorizer.transform(X_dev)\n",
    "X_test_counts = count_vectorizer.transform(X_test)\n",
    "\n",
    "\n",
    "tf_transformer = TfidfTransformer().fit(X_train_counts)\n",
    "X_train_tf = tf_transformer.transform(X_train_counts)\n",
    "X_dev_tf = tf_transformer.transform(X_dev_counts)\n",
    "X_test_tf = tf_transformer.transform(X_test_counts)\n",
    "\n",
    "\n",
    "nb_classifier = MultinomialNB()\n",
    "nb_classifier.fit(X_train_tf, y_train)\n",
    "\n",
    "\n",
    "y_train_pred = nb_classifier.predict(X_train_tf)\n",
    "train_error = 1 - accuracy_score(y_train, y_train_pred)\n",
    "print(f\" Train Set Error Rate: {train_error:.4f}\")\n",
    "\n",
    "y_dev_pred = nb_classifier.predict(X_dev_tf)\n",
    "dev_error = 1 - accuracy_score(y_dev, y_dev_pred)\n",
    "print(f\" Development Set Error Rate: {dev_error:.4f}\")\n",
    "\n",
    "\n",
    "y_test_pred = nb_classifier.predict(X_test_tf)\n",
    "test_error = 1 - accuracy_score(y_test, y_test_pred)\n",
    "print(f\" Test Set Error Rate: {test_error:.4f}\")\n",
    "\n",
    "\n"
   ]
  },
  {
   "cell_type": "markdown",
   "metadata": {},
   "source": [
    "## Error analysis\n",
    "\n",
    "The classification error rate give an evaluation of the performance for all the classes. But since the classes are not equally distributed, they may not be equally well modelized. In order to get a better idea of the performance of the classifier, detailed metrics must be used : \n",
    "\n",
    "* [metrics.classification_report](http://scikit-learn.org/stable/modules/generated/sklearn.metrics.classification_report.html) provides a detailed analysis per class : the precision (amongst all the example classified as class X, how many are really from the classX) and the recall (amongst all the example that are from the class X, how many are classified as class X) and the F-Score which is as a weighted harmonic mean of the precision and recall.\n",
    "* [metrics.confusion_matrix](http://scikit-learn.org/stable/modules/generated/sklearn.metrics.confusion_matrix.html) which give the confusions between the classes. It can be displayed in color with [plot_confusion_matrix](https://scikit-learn.org/stable/modules/generated/sklearn.metrics.plot_confusion_matrix.html#sklearn.metrics.plot_confusion_matrix).\n",
    "\n",
    "**Question**:\n",
    "\n",
    "> * Report the `classification_report` for your  classifier. Which classes have the best scores ? Why ?\n",
    "> * Report the `confusion_matrix` for your  classifier. Which classes are the most confused ? Why ?\n"
   ]
  },
  {
   "cell_type": "code",
   "execution_count": null,
   "metadata": {},
   "outputs": [],
   "source": [
    "from sklearn.metrics import classification_report, ConfusionMatrixDisplay, confusion_matrix\n",
    "\n",
    "\n",
    "print(\"\\n Classification Report on Test Set:\")\n",
    "print(classification_report(y_test, y_test_pred))\n",
    "\n",
    "# The sports class has the highest precision score, likely because it has many words that appear in these articles but no in others. Art, business and internationnal also have relatively high precision\n",
    "# scores, as they are somewhat specific categories with a set of specific recurring words in them\n",
    "\n",
    "cm = confusion_matrix(y_test, y_test_pred)\n",
    "\n",
    "\n",
    "disp = ConfusionMatrixDisplay(confusion_matrix=cm, display_labels=nb_classifier.classes_)\n",
    "disp.plot(cmap=\"Blues\", xticks_rotation=45)  \n",
    "\n",
    "# Very noticibly, the 'une' category is impossible to predict (seen in 0 predictions). This is due to the fact that there is no one theme linked to the front page, and it could very well be an artcle\n",
    "# that could've been in another category, so it's impossible to distinguish it from the other categories. Also poorly predicted are the France and society categories, as they are broad and don't \n",
    "# necessarily use very specific language, and are semantically close to eachother\n"
   ]
  },
  {
   "cell_type": "markdown",
   "metadata": {},
   "source": [
    "## Data re-configuration\n",
    "After the error analysis, we came to the conclusion that one of the class can not be distinguised from the others. There is no use trying to solve an impossible problem.\n",
    "\n",
    "**Questions**:\n",
    "\n",
    "> * Remove the class `UNE` from the original dataset and merge the semantically close classes 'FRANCE' and 'SOCIETE'\n",
    "> * Plot the class statitics with seaborn\n",
    "> * Create new splits\n",
    "> * Retrain a NaiveBayes classifier using [TfidfVectorizer](https://scikit-learn.org/stable/modules/generated/sklearn.feature_extraction.text.TfidfVectorizer.html) with the 1000 most frequent words."
   ]
  },
  {
   "cell_type": "code",
   "execution_count": null,
   "metadata": {},
   "outputs": [],
   "source": [
    "from sklearn.feature_extraction.text import TfidfVectorizer\n",
    "from sklearn.model_selection import train_test_split\n",
    "from sklearn.naive_bayes import MultinomialNB\n",
    "from sklearn.metrics import accuracy_score, classification_report, confusion_matrix, ConfusionMatrixDisplay\n",
    "import seaborn as sns\n",
    "import matplotlib.pyplot as plt\n",
    "\n",
    "# Filter out the UNE class\n",
    "df_filtered = data[data['category'] != 'UNE'].copy()  # Remove UNE\n",
    "\n",
    "# Merge France and Societé\n",
    "\n",
    "df_filtered['category'] = df_filtered['category'].replace({'FRANCE': 'FRA_SOC', 'SOCIETE': 'FRA_SOC'})\n",
    "\n",
    "# Plot the statistics of classes\n",
    "\n",
    "plt.figure(figsize=(10, 6))\n",
    "sns.countplot(data=df_filtered, y='category', order=df_filtered['category'].value_counts().index)\n",
    "plt.title(\"Distribution of Articles by Category (After Merging & Removing UNE)\")\n",
    "plt.show()\n",
    "\n",
    "# Make the splits and print the sizes for checking\n",
    "\n",
    "X = df_filtered['text']  # Features (article text)\n",
    "y = df_filtered['category']  # Target labels (updated categories)\n",
    "\n",
    "# Splitting: 80% Train, 10% Dev, 10% Test\n",
    "X_train, X_temp, y_train, y_temp = train_test_split(X, y, test_size=0.2, random_state=42, stratify=y)\n",
    "X_dev, X_test, y_dev, y_test = train_test_split(X_temp, y_temp, test_size=0.5, random_state=42, stratify=y_temp)\n",
    "\n",
    "print(f\"Training set size: {len(X_train)}\")\n",
    "print(f\"Development set size: {len(X_dev)}\")\n",
    "print(f\"Test set size: {len(X_test)}\")\n",
    "\n",
    "# Apply TfidfVectorizer\n",
    "\n",
    "vectorizer = TfidfVectorizer(max_features=1000)\n",
    "X_train_tf = vectorizer.fit_transform(X_train)\n",
    "X_dev_tf = vectorizer.transform(X_dev)\n",
    "X_test_tf = vectorizer.transform(X_test)\n",
    "\n",
    "# Train MultinomialNB\n",
    "nb_classifier = MultinomialNB()\n",
    "nb_classifier.fit(X_train_tf, y_train)\n",
    "\n",
    "# Print accuracy\n",
    "y_test_pred = nb_classifier.predict(X_test_tf)\n",
    "test_accuracy = accuracy_score(y_test, y_test_pred)\n",
    "print(f\"\\n Test Set Accuracy (After Merging & Removing UNE): {test_accuracy:.4f}\")\n",
    "\n",
    "# Print confusion matric\n",
    "cm = confusion_matrix(y_test, y_test_pred)\n",
    "disp = ConfusionMatrixDisplay(confusion_matrix=cm, display_labels=nb_classifier.classes_)\n",
    "disp.plot(cmap=\"Blues\", xticks_rotation=45)\n",
    "plt.show()\n"
   ]
  },
  {
   "cell_type": "markdown",
   "metadata": {},
   "source": [
    "## What about the LLMs?\n",
    "\n",
    "**You must write the answer to this question in a notebook hosted in your github account and give access to your supervisor.**\n",
    "\n",
    "LLMs are reputed to have revolutionised automatic language processing. Since the introduction of BERT-type models, all language processing applications have been based on LLMs, of varying degrees of sophistication and size. These models are trained on multiple tasks and are therefore capable of performing new tasks without learning, simply from a prompt. This is known as \"zero-shot learning\" because there is no learning phase as such. We are going to test these models on our classification task.\n",
    "\n",
    "Huggingface is a Franco-American company that develops tools for building applications based on Deep Learning. In particular, it hosts the huggingface.co portal, which contains numerous Deep Learning models. These models can be used very easily thanks to the [Transformer] library (https://huggingface.co/docs/transformers/quicktour) developed by HuggingFace.\n",
    "\n",
    "Using a transform model in zero-shot learning with HuggingFace is very simple: [see documentation](https://huggingface.co/tasks/zero-shot-classification)\n",
    "\n",
    "However, you need to choose a suitable model from the list of models compatible with Zero-Shot classification. HuggingFace offers [numerous models](https://huggingface.co/models?pipeline_tag=zero-shot-classification). \n",
    "\n",
    "The classes proposed to the model must also provide sufficient semantic information for the model to understand them.\n",
    "\n",
    "**Question**:\n",
    "\n",
    "* Write a code to classify an example of text from an article in Le Monde using a model transformed using zero-sot learning with the HuggingFace library.\n",
    "* choose a model and explain your choice\n",
    "* choose a formulation for the classes to be predicted\n",
    "* show that the model predicts a class for the text of the article (correct or incorrect, analyse the results)\n",
    "* evaluate the performance of your model on 100 articles (a test set).\n",
    "* note model sizes, processing times and classification results\n",
    "\n",
    "\n",
    "Notes :\n",
    "* make sure that you use the correct Tokenizer when using a model \n",
    "* start testing with a small number of articles and the first 100's of characters for faster experiments."
   ]
  },
  {
   "cell_type": "code",
   "execution_count": 14,
   "metadata": {},
   "outputs": [
    {
     "name": "stdout",
     "output_type": "stream",
     "text": [
      "Collecting transformers\n",
      "  Downloading transformers-4.48.3-py3-none-any.whl.metadata (44 kB)\n",
      "Collecting filelock (from transformers)\n",
      "  Downloading filelock-3.17.0-py3-none-any.whl.metadata (2.9 kB)\n",
      "Collecting huggingface-hub<1.0,>=0.24.0 (from transformers)\n",
      "  Downloading huggingface_hub-0.28.1-py3-none-any.whl.metadata (13 kB)\n",
      "Requirement already satisfied: numpy>=1.17 in /opt/conda/lib/python3.12/site-packages (from transformers) (2.2.2)\n",
      "Requirement already satisfied: packaging>=20.0 in /opt/conda/lib/python3.12/site-packages (from transformers) (24.2)\n",
      "Requirement already satisfied: pyyaml>=5.1 in /opt/conda/lib/python3.12/site-packages (from transformers) (6.0.2)\n",
      "Requirement already satisfied: regex!=2019.12.17 in /opt/conda/lib/python3.12/site-packages (from transformers) (2024.11.6)\n",
      "Requirement already satisfied: requests in /opt/conda/lib/python3.12/site-packages (from transformers) (2.32.3)\n",
      "Collecting tokenizers<0.22,>=0.21 (from transformers)\n",
      "  Downloading tokenizers-0.21.0-cp39-abi3-manylinux_2_17_x86_64.manylinux2014_x86_64.whl.metadata (6.7 kB)\n",
      "Collecting safetensors>=0.4.1 (from transformers)\n",
      "  Downloading safetensors-0.5.2-cp38-abi3-manylinux_2_17_x86_64.manylinux2014_x86_64.whl.metadata (3.8 kB)\n",
      "Requirement already satisfied: tqdm>=4.27 in /opt/conda/lib/python3.12/site-packages (from transformers) (4.67.1)\n",
      "Requirement already satisfied: fsspec>=2023.5.0 in /opt/conda/lib/python3.12/site-packages (from huggingface-hub<1.0,>=0.24.0->transformers) (2025.2.0)\n",
      "Requirement already satisfied: typing-extensions>=3.7.4.3 in /opt/conda/lib/python3.12/site-packages (from huggingface-hub<1.0,>=0.24.0->transformers) (4.12.2)\n",
      "Requirement already satisfied: charset_normalizer<4,>=2 in /opt/conda/lib/python3.12/site-packages (from requests->transformers) (3.4.1)\n",
      "Requirement already satisfied: idna<4,>=2.5 in /opt/conda/lib/python3.12/site-packages (from requests->transformers) (3.10)\n",
      "Requirement already satisfied: urllib3<3,>=1.21.1 in /opt/conda/lib/python3.12/site-packages (from requests->transformers) (2.3.0)\n",
      "Requirement already satisfied: certifi>=2017.4.17 in /opt/conda/lib/python3.12/site-packages (from requests->transformers) (2024.12.14)\n",
      "Downloading transformers-4.48.3-py3-none-any.whl (9.7 MB)\n",
      "\u001b[2K   \u001b[90m━━━━━━━━━━━━━━━━━━━━━━━━━━━━━━━━━━━━━━━━\u001b[0m \u001b[32m9.7/9.7 MB\u001b[0m \u001b[31m9.6 MB/s\u001b[0m eta \u001b[36m0:00:00\u001b[0m:00:01\u001b[0m\n",
      "\u001b[?25hDownloading huggingface_hub-0.28.1-py3-none-any.whl (464 kB)\n",
      "Downloading safetensors-0.5.2-cp38-abi3-manylinux_2_17_x86_64.manylinux2014_x86_64.whl (461 kB)\n",
      "Downloading tokenizers-0.21.0-cp39-abi3-manylinux_2_17_x86_64.manylinux2014_x86_64.whl (3.0 MB)\n",
      "\u001b[2K   \u001b[90m━━━━━━━━━━━━━━━━━━━━━━━━━━━━━━━━━━━━━━━━\u001b[0m \u001b[32m3.0/3.0 MB\u001b[0m \u001b[31m14.0 MB/s\u001b[0m eta \u001b[36m0:00:00\u001b[0mta \u001b[36m0:00:01\u001b[0m\n",
      "\u001b[?25hDownloading filelock-3.17.0-py3-none-any.whl (16 kB)\n",
      "Installing collected packages: safetensors, filelock, huggingface-hub, tokenizers, transformers\n",
      "Successfully installed filelock-3.17.0 huggingface-hub-0.28.1 safetensors-0.5.2 tokenizers-0.21.0 transformers-4.48.3\n"
     ]
    }
   ],
   "source": [
    "!pip install transformers"
   ]
  },
  {
   "cell_type": "code",
   "execution_count": 15,
   "metadata": {},
   "outputs": [
    {
     "name": "stdout",
     "output_type": "stream",
     "text": [
      "Collecting torch\n",
      "  Downloading torch-2.6.0-cp312-cp312-manylinux1_x86_64.whl.metadata (28 kB)\n",
      "Requirement already satisfied: filelock in /opt/conda/lib/python3.12/site-packages (from torch) (3.17.0)\n",
      "Requirement already satisfied: typing-extensions>=4.10.0 in /opt/conda/lib/python3.12/site-packages (from torch) (4.12.2)\n",
      "Requirement already satisfied: networkx in /opt/conda/lib/python3.12/site-packages (from torch) (3.4.2)\n",
      "Requirement already satisfied: jinja2 in /opt/conda/lib/python3.12/site-packages (from torch) (3.1.5)\n",
      "Requirement already satisfied: fsspec in /opt/conda/lib/python3.12/site-packages (from torch) (2025.2.0)\n",
      "Collecting nvidia-cuda-nvrtc-cu12==12.4.127 (from torch)\n",
      "  Downloading nvidia_cuda_nvrtc_cu12-12.4.127-py3-none-manylinux2014_x86_64.whl.metadata (1.5 kB)\n",
      "Collecting nvidia-cuda-runtime-cu12==12.4.127 (from torch)\n",
      "  Downloading nvidia_cuda_runtime_cu12-12.4.127-py3-none-manylinux2014_x86_64.whl.metadata (1.5 kB)\n",
      "Collecting nvidia-cuda-cupti-cu12==12.4.127 (from torch)\n",
      "  Downloading nvidia_cuda_cupti_cu12-12.4.127-py3-none-manylinux2014_x86_64.whl.metadata (1.6 kB)\n",
      "Collecting nvidia-cudnn-cu12==9.1.0.70 (from torch)\n",
      "  Downloading nvidia_cudnn_cu12-9.1.0.70-py3-none-manylinux2014_x86_64.whl.metadata (1.6 kB)\n",
      "Collecting nvidia-cublas-cu12==12.4.5.8 (from torch)\n",
      "  Downloading nvidia_cublas_cu12-12.4.5.8-py3-none-manylinux2014_x86_64.whl.metadata (1.5 kB)\n",
      "Collecting nvidia-cufft-cu12==11.2.1.3 (from torch)\n",
      "  Downloading nvidia_cufft_cu12-11.2.1.3-py3-none-manylinux2014_x86_64.whl.metadata (1.5 kB)\n",
      "Collecting nvidia-curand-cu12==10.3.5.147 (from torch)\n",
      "  Downloading nvidia_curand_cu12-10.3.5.147-py3-none-manylinux2014_x86_64.whl.metadata (1.5 kB)\n",
      "Collecting nvidia-cusolver-cu12==11.6.1.9 (from torch)\n",
      "  Downloading nvidia_cusolver_cu12-11.6.1.9-py3-none-manylinux2014_x86_64.whl.metadata (1.6 kB)\n",
      "Collecting nvidia-cusparse-cu12==12.3.1.170 (from torch)\n",
      "  Downloading nvidia_cusparse_cu12-12.3.1.170-py3-none-manylinux2014_x86_64.whl.metadata (1.6 kB)\n",
      "Collecting nvidia-cusparselt-cu12==0.6.2 (from torch)\n",
      "  Downloading nvidia_cusparselt_cu12-0.6.2-py3-none-manylinux2014_x86_64.whl.metadata (6.8 kB)\n",
      "Collecting nvidia-nccl-cu12==2.21.5 (from torch)\n",
      "  Downloading nvidia_nccl_cu12-2.21.5-py3-none-manylinux2014_x86_64.whl.metadata (1.8 kB)\n",
      "Collecting nvidia-nvtx-cu12==12.4.127 (from torch)\n",
      "  Downloading nvidia_nvtx_cu12-12.4.127-py3-none-manylinux2014_x86_64.whl.metadata (1.7 kB)\n",
      "Collecting nvidia-nvjitlink-cu12==12.4.127 (from torch)\n",
      "  Downloading nvidia_nvjitlink_cu12-12.4.127-py3-none-manylinux2014_x86_64.whl.metadata (1.5 kB)\n",
      "Collecting triton==3.2.0 (from torch)\n",
      "  Downloading triton-3.2.0-cp312-cp312-manylinux_2_17_x86_64.manylinux2014_x86_64.whl.metadata (1.4 kB)\n",
      "Requirement already satisfied: setuptools in /opt/conda/lib/python3.12/site-packages (from torch) (75.8.0)\n",
      "Collecting sympy==1.13.1 (from torch)\n",
      "  Downloading sympy-1.13.1-py3-none-any.whl.metadata (12 kB)\n",
      "Collecting mpmath<1.4,>=1.1.0 (from sympy==1.13.1->torch)\n",
      "  Downloading mpmath-1.3.0-py3-none-any.whl.metadata (8.6 kB)\n",
      "Requirement already satisfied: MarkupSafe>=2.0 in /opt/conda/lib/python3.12/site-packages (from jinja2->torch) (3.0.2)\n",
      "Downloading torch-2.6.0-cp312-cp312-manylinux1_x86_64.whl (766.6 MB)\n",
      "\u001b[2K   \u001b[90m━━━━━━━━━━━━━━━━━━━━━━━━━━━━━━━━━━━━━━━━\u001b[0m \u001b[32m766.6/766.6 MB\u001b[0m \u001b[31m?\u001b[0m eta \u001b[36m0:00:00\u001b[0m \u001b[36m0:00:01\u001b[0m00:01\u001b[0m\n",
      "\u001b[?25hDownloading nvidia_cublas_cu12-12.4.5.8-py3-none-manylinux2014_x86_64.whl (363.4 MB)\n",
      "\u001b[2K   \u001b[90m━━━━━━━━━━━━━━━━━━━━━━━━━━━━━━━━━━━━━━━━\u001b[0m \u001b[32m363.4/363.4 MB\u001b[0m \u001b[31m18.3 MB/s\u001b[0m eta \u001b[36m0:00:00\u001b[0m00:01\u001b[0m00:01\u001b[0m\n",
      "Downloading nvidia_cuda_cupti_cu12-12.4.127-py3-none-manylinux2014_x86_64.whl (13.8 MB)\n",
      "\u001b[2K   \u001b[90m━━━━━━━━━━━━━━━━━━━━━━━━━━━━━━━━━━━━━━━━\u001b[0m \u001b[32m13.8/13.8 MB\u001b[0m \u001b[31m27.2 MB/s\u001b[0m eta \u001b[36m0:00:00\u001b[0m00:01\u001b[0m0:01\u001b[0m\n",
      "Downloading nvidia_cuda_nvrtc_cu12-12.4.127-py3-none-manylinux2014_x86_64.whl (24.6 MB)\n",
      "\u001b[2K   \u001b[90m━━━━━━━━━━━━━━━━━━━━━━━━━━━━━━━━━━━━━━━━\u001b[0m \u001b[32m24.6/24.6 MB\u001b[0m \u001b[31m25.0 MB/s\u001b[0m eta \u001b[36m0:00:00\u001b[0m00:01\u001b[0m00:01\u001b[0m\n",
      "\u001b[?25hDownloading nvidia_cuda_runtime_cu12-12.4.127-py3-none-manylinux2014_x86_64.whl (883 kB)\n",
      "\u001b[2K   \u001b[90m━━━━━━━━━━━━━━━━━━━━━━━━━━━━━━━━━━━━━━━━\u001b[0m \u001b[32m883.7/883.7 kB\u001b[0m \u001b[31m18.4 MB/s\u001b[0m eta \u001b[36m0:00:00\u001b[0m\n",
      "\u001b[?25hDownloading nvidia_cudnn_cu12-9.1.0.70-py3-none-manylinux2014_x86_64.whl (664.8 MB)\n",
      "\u001b[2K   \u001b[90m━━━━━━━━━━━━━━━━━━━━━━━━━━━━━━━━━━━━━━━━\u001b[0m \u001b[32m664.8/664.8 MB\u001b[0m \u001b[31m9.8 MB/s\u001b[0m eta \u001b[36m0:00:00\u001b[0m:00:01\u001b[0m00:01\u001b[0m\n",
      "\u001b[?25hDownloading nvidia_cufft_cu12-11.2.1.3-py3-none-manylinux2014_x86_64.whl (211.5 MB)\n",
      "\u001b[2K   \u001b[90m━━━━━━━━━━━━━━━━━━━━━━━━━━━━━━━━━━━━━━━━\u001b[0m \u001b[32m211.5/211.5 MB\u001b[0m \u001b[31m47.7 MB/s\u001b[0m eta \u001b[36m0:00:00\u001b[0m00:01\u001b[0m00:01\u001b[0m\n",
      "\u001b[?25hDownloading nvidia_curand_cu12-10.3.5.147-py3-none-manylinux2014_x86_64.whl (56.3 MB)\n",
      "\u001b[2K   \u001b[90m━━━━━━━━━━━━━━━━━━━━━━━━━━━━━━━━━━━━━━━━\u001b[0m \u001b[32m56.3/56.3 MB\u001b[0m \u001b[31m31.9 MB/s\u001b[0m eta \u001b[36m0:00:00\u001b[0m:00:01\u001b[0m0:01\u001b[0m\n",
      "\u001b[?25hDownloading nvidia_cusolver_cu12-11.6.1.9-py3-none-manylinux2014_x86_64.whl (127.9 MB)\n",
      "\u001b[2K   \u001b[90m━━━━━━━━━━━━━━━━━━━━━━━━━━━━━━━━━━━━━━━━\u001b[0m \u001b[32m127.9/127.9 MB\u001b[0m \u001b[31m30.9 MB/s\u001b[0m eta \u001b[36m0:00:00\u001b[0m00:01\u001b[0m00:01\u001b[0m\n",
      "\u001b[?25hDownloading nvidia_cusparse_cu12-12.3.1.170-py3-none-manylinux2014_x86_64.whl (207.5 MB)\n",
      "\u001b[2K   \u001b[90m━━━━━━━━━━━━━━━━━━━━━━━━━━━━━━━━━━━━━━━━\u001b[0m \u001b[32m207.5/207.5 MB\u001b[0m \u001b[31m36.9 MB/s\u001b[0m eta \u001b[36m0:00:00\u001b[0m00:01\u001b[0m00:01\u001b[0m\n",
      "\u001b[?25hDownloading nvidia_cusparselt_cu12-0.6.2-py3-none-manylinux2014_x86_64.whl (150.1 MB)\n",
      "\u001b[2K   \u001b[90m━━━━━━━━━━━━━━━━━━━━━━━━━━━━━━━━━━━━━━━━\u001b[0m \u001b[32m150.1/150.1 MB\u001b[0m \u001b[31m35.2 MB/s\u001b[0m eta \u001b[36m0:00:00\u001b[0m00:01\u001b[0m00:01\u001b[0m\n",
      "\u001b[?25hDownloading nvidia_nccl_cu12-2.21.5-py3-none-manylinux2014_x86_64.whl (188.7 MB)\n",
      "\u001b[2K   \u001b[90m━━━━━━━━━━━━━━━━━━━━━━━━━━━━━━━━━━━━━━━━\u001b[0m \u001b[32m188.7/188.7 MB\u001b[0m \u001b[31m35.4 MB/s\u001b[0m eta \u001b[36m0:00:00\u001b[0m00:01\u001b[0m00:01\u001b[0m\n",
      "\u001b[?25hDownloading nvidia_nvjitlink_cu12-12.4.127-py3-none-manylinux2014_x86_64.whl (21.1 MB)\n",
      "\u001b[2K   \u001b[90m━━━━━━━━━━━━━━━━━━━━━━━━━━━━━━━━━━━━━━━━\u001b[0m \u001b[32m21.1/21.1 MB\u001b[0m \u001b[31m21.1 MB/s\u001b[0m eta \u001b[36m0:00:00\u001b[0m00:01\u001b[0m00:01\u001b[0m\n",
      "\u001b[?25hDownloading nvidia_nvtx_cu12-12.4.127-py3-none-manylinux2014_x86_64.whl (99 kB)\n",
      "Downloading sympy-1.13.1-py3-none-any.whl (6.2 MB)\n",
      "\u001b[2K   \u001b[90m━━━━━━━━━━━━━━━━━━━━━━━━━━━━━━━━━━━━━━━━\u001b[0m \u001b[32m6.2/6.2 MB\u001b[0m \u001b[31m25.1 MB/s\u001b[0m eta \u001b[36m0:00:00\u001b[0ma \u001b[36m0:00:01\u001b[0m\n",
      "\u001b[?25hDownloading triton-3.2.0-cp312-cp312-manylinux_2_17_x86_64.manylinux2014_x86_64.whl (253.2 MB)\n",
      "\u001b[2K   \u001b[90m━━━━━━━━━━━━━━━━━━━━━━━━━━━━━━━━━━━━━━━━\u001b[0m \u001b[32m253.2/253.2 MB\u001b[0m \u001b[31m19.8 MB/s\u001b[0m eta \u001b[36m0:00:00\u001b[0m00:01\u001b[0m00:01\u001b[0m\n",
      "\u001b[?25hDownloading mpmath-1.3.0-py3-none-any.whl (536 kB)\n",
      "\u001b[2K   \u001b[90m━━━━━━━━━━━━━━━━━━━━━━━━━━━━━━━━━━━━━━━━\u001b[0m \u001b[32m536.2/536.2 kB\u001b[0m \u001b[31m2.7 MB/s\u001b[0m eta \u001b[36m0:00:00\u001b[0m\n",
      "Installing collected packages: triton, nvidia-cusparselt-cu12, mpmath, sympy, nvidia-nvtx-cu12, nvidia-nvjitlink-cu12, nvidia-nccl-cu12, nvidia-curand-cu12, nvidia-cufft-cu12, nvidia-cuda-runtime-cu12, nvidia-cuda-nvrtc-cu12, nvidia-cuda-cupti-cu12, nvidia-cublas-cu12, nvidia-cusparse-cu12, nvidia-cudnn-cu12, nvidia-cusolver-cu12, torch\n",
      "Successfully installed mpmath-1.3.0 nvidia-cublas-cu12-12.4.5.8 nvidia-cuda-cupti-cu12-12.4.127 nvidia-cuda-nvrtc-cu12-12.4.127 nvidia-cuda-runtime-cu12-12.4.127 nvidia-cudnn-cu12-9.1.0.70 nvidia-cufft-cu12-11.2.1.3 nvidia-curand-cu12-10.3.5.147 nvidia-cusolver-cu12-11.6.1.9 nvidia-cusparse-cu12-12.3.1.170 nvidia-cusparselt-cu12-0.6.2 nvidia-nccl-cu12-2.21.5 nvidia-nvjitlink-cu12-12.4.127 nvidia-nvtx-cu12-12.4.127 sympy-1.13.1 torch-2.6.0 triton-3.2.0\n"
     ]
    }
   ],
   "source": [
    "!pip install torch"
   ]
  },
  {
   "cell_type": "code",
   "execution_count": 18,
   "metadata": {},
   "outputs": [],
   "source": [
    "from transformers import pipeline"
   ]
  },
  {
   "cell_type": "code",
   "execution_count": 19,
   "metadata": {},
   "outputs": [
    {
     "name": "stdout",
     "output_type": "stream",
     "text": [
      "Torch version: 2.6.0+cu124\n",
      "CUDA available: True\n"
     ]
    }
   ],
   "source": [
    "import torch\n",
    "print(\"Torch version:\", torch.__version__)\n",
    "print(\"CUDA available:\", torch.cuda.is_available())"
   ]
  },
  {
   "cell_type": "code",
   "execution_count": 20,
   "metadata": {},
   "outputs": [
    {
     "name": "stderr",
     "output_type": "stream",
     "text": [
      "Device set to use cuda:0\n"
     ]
    }
   ],
   "source": [
    "classifier = pipeline(\"zero-shot-classification\", \n",
    "                      model=\"mtheo/camembert-base-xnli\", \n",
    "                      )\n"
   ]
  },
  {
   "cell_type": "code",
   "execution_count": 21,
   "metadata": {},
   "outputs": [],
   "source": [
    "class_labels = [\n",
    "    \"Actualités économiques et entreprises\",   \n",
    "    \"Actualités internationales\",             \n",
    "    \"Arts et culture\",                         \n",
    "    \"Société française\",                       \n",
    "    \"Sport et événements sportifs\",            \n",
    "    \"Littérature et livres\",                   \n",
    "    \"Télévision et médias\"                    \n",
    "]\n"
   ]
  },
  {
   "cell_type": "code",
   "execution_count": 29,
   "metadata": {},
   "outputs": [
    {
     "name": "stdout",
     "output_type": "stream",
     "text": [
      "\n",
      " Texte:  en france comme en belgique la fin de l'exploitation minière a constitué un cataclysme en pays wallon et dans le pas-de-calais on cherche à préserver la mémoire des hommes et des femmes de la mine en  ...\n",
      " Catégorie prédite: Sport et événements sportifs\n",
      " Score de confiance: 0.36067909002304077\n"
     ]
    }
   ],
   "source": [
    "random_article = data[\"text\"].sample(1).values[0][:500]  \n",
    "\n",
    "\n",
    "result = classifier(random_article, class_labels)\n",
    "\n",
    "print(\"\\n Texte: \", random_article[:200], \"...\")  \n",
    "print(\" Catégorie prédite:\", result['labels'][0])  \n",
    "print(\" Score de confiance:\", result['scores'][0])\n"
   ]
  },
  {
   "cell_type": "code",
   "execution_count": 27,
   "metadata": {},
   "outputs": [
    {
     "name": "stdout",
     "output_type": "stream",
     "text": [
      "                                                                                                                                                                                                                                                                                                                                                                                                                                                                                                                                                                                                                                                                                                                                                                                                                                                                                                                                                                                                                                                                                                                                                                                                                                                                                                                                                                                                                                                                                                                                                                                                                                                                                                                                                                                                                                                                                                                                                                                                                                                                                                                                                                                                                                                                                                                                                                                                                                                                                                                                                                                                                                                                                                                                                                                                                                                                                                                                                                                                                                                                                                                                                                                                                                                                                                                                                                                                                                                                                                                                                                                                                                                                                                                                                                                                                                                                                                                                                                                                                                                                                                                                                                                                                                                                                                                                                                                                                                                                                                                                                                                                                                                                                                                                                                                                                                                                                                                                                                                                                                                                                                                                                                                                                                                                                                                                                                                                                                                                                                                                                                                                                                                                                                                                                                                                                                                                                                                                                                                                                                                                                                                                                                                                                                                                                                                                                                                                                                                                                                                                                                                                                                                                                                                                                                                                                                                                                                        Article  \\\n",
      "0                                                                                                                                                                                                                                                                                                                                                                                                                                                                                                                                                                                                                                                                                                                                                                                                                                                                                                                                                                                                                                                                                                                                                                                                                                                                                                                                                                                                                                                                                                                                                                                                                                                                                                                                                                                                                                                                                                                                                                                                                                                                                                                                                                                                                                                                                                                                                                                                                                                                                                                                                                                                                                                                                                                                                                                                                                                                                                                                                                                                                                                                                                                                                                                                                                                                                                                                                                                                                                                                                                                                                                                                                                                                                                                                                                                                                                                                                                                                                                                                                                                                                                                                                                                                                                                                                                                                                                                                                                                                                                                                                                                                                                                                                                                                                                                                                                                                                                                                                                                                                                                                                                                                                                                                                                                                                                                                                                                                                                                                                                                                                                                                                                                                                                                                                                                                                                                                                                                                                                                                                                                                                                                                                                                                                                                                                                                                                                                                                                                                                                                                                                                                                                                                                                                       après l'échec des discussions avec bayer le laboratoire pharmaceutique français a annoncé mardi l'ouverture de négociations avec l'australien csl afin de lui vendre sa filiale behring   \n",
      "1  en ces temps troublés pour les actionnaires plus de 15 000 d'entre eux se sont rendus samedi 3 mai dans la petite ville d'omaha dans le nebraska pour s'entasser huit heures d'affilée dans une salle de spectacle et écouter la bonne parole de warren buffett surnommé le sage d'omaha le deuxième homme le plus riche du monde derrière bill gates incarne aux yeux de ses nombreux admirateurs la vertu la modestie et l'austérité attribuées au capitalisme d'antan les actionnaires de son fonds d'investissement baptisé berkshire hathaway lui vouent une reconnaissance et une admiration qui frisent le culte de la personnalité cet homme cache derrière d'épaisses lunettes de myope des cravates démodées et des costumes passe-partout un véritable art de l'investissement un épargnant lui ayant confié 10 000 dollars en 1970 se trouve aujourd'hui à la tête de 20 millions de dollars popularité sans précédent en dépit d'une fortune estimée à près de 40 milliards de dollars 35,68 milliards d'euros il conduit une lincoln plutôt âgée avale tous les midis au même endroit depuis un demi-siècle un hamburger en buvant un coca-cola à la cerise il ne touche jamais ni au café ni à l'alcool milliardaire aux goûts d'américain moyen warren buffett 72 ans vit dans la maison où il s'est installé en 1956 il venait alors de créer son premier fonds d'investissement buffett partnership quelques voisins lui ayant confié la gestion de leurs économies il s'octroie un salaire annuel de seulement 100 000 dollars et ne compte pas transmettre à ses trois enfants l'essentiel de sa fortune qui ira à une fondation caritative warren buffett n'a jamais mis les pieds à washington n'aime pas wall street et ne croyait pas à la nouvelle économie je ne comprenais rien aux métiers dont on me parlait cela lui a valu à la fin des années 1990 d'être traité de ringard et de connaître aujourd'hui une popularité sans précédent il dénonce depuis des années les stock-options l'irresponsabilité et la corruption des conseils d'administration et la rapacité des chefs d'entreprise un système où les rémunérations des dirigeants n'ont plus aucun rapport avec les performances de leurs sociétés et ne cessent depuis vingt ans de s'accroître par rapport à celles du salarié moyen est un système détestable a-t-il encore affirmé samedi il en a profité pour dénigrer les analystes nous ne regardons jamais leurs études si j'en ai lu une c'est qu'il y avait alors pénurie de journaux satiriques il s'en est pris aussi au gouvernement il condamne la suppression de la taxe sur les dividendes uniquement pour les riches et l'intention de placer en actions les fonds du système de retraite public il s'agit d'une très mauvaise idée de mettre cet argent à la merci des soubresauts de la bourse sous prétexte de soutenir le système a-t-il dit warren buffett déteste les apparitions publiques il fait une seule exception tous les ans lors de l'assemblée générale de son fonds c'est le seul homme sur la planète capable d'attirer en plein coeur du midwest autant de personnes pour autre chose qu'un match de football explique enthousiaste john bailey de boston face à cette ferveur le numéro bien rodé de warren buffett et de son partenaire de toujours charlie munger 79 ans est un mélange d'humour d'autodérision et de vérités premières pour certains il s'agit presque d'une forme de culte explique henry asher un gérant de portefeuille pour moi il s'agit de l'occasion unique de l'entendre répondre toujours avec autant de bon sens à des questions parfois très complexes si vous êtes intéressés par la vie des entreprises ou les placements financiers vous pouvez assister à une leçon dont vous ne trouverez pas l'équivalent dans les plus grandes universités ajoute matt sauer lui aussi gestionnaire dès 4 heures les plus courageux attendaient samedi devant les portes du omaha 's civic auditorium qui se sont ouvertes à 7 heures après un petit film mélange de sketchs humoristiques et de publicité à la gloire des entreprises dans lesquelles le fonds a investi mm buffett et munger montent en scène sous les applaudissements et expédient en quelques minutes les formalités de l'assemblée générale puis ils répondent pendant plus de six heures aux questions de toutes sortes avec gentillesse et sans se prendre au sérieux refus du pronostic cette fois encore warren buffett n'a pas promis monts et merveilles au contraire il répète tous les ans que les performances de berkshire hathaway s'annoncent modestes même s'il a dégagé en 2002 un profit opérationnel de 4,2 milliards de dollars et de 1,7 milliard au premier trimestre 2003 les actions ne devraient pas rapporter en moyenne lors des prochaines années plus de 6 à 7 un rendement faible par rapport à ce que certains ont connu dans les années 1990 mais c'était anormal cette bulle était de loin la plus grande hallucination collective que j'ai jamais vue les actions progressent en général comme l'économie explique-t-il il se montre plutôt pessimiste sur la conjoncture américaine nous sommes sans doute aujourd'hui encore en récession warren buffett se refuse toujours à faire un pronostic je n'ai pas la moindre idée de ce que fera wall street dans les six prochains mois ou même les deux ans à venir en revanche il est plus facile de voir ce qui pourrait se passer dans les dix prochaines années et les performances seront plutôt limitées raison de plus pour bien choisir les entreprises il se laisse ensuite aller à quelques confidences vous ne pouvez pas réussir en matière d'investissement si vous ne pensez pas de façon originale et indépendante vous n'avez pas raison parce que les autres partagent votre avis vous avez raison si les faits prouvent que votre raisonnement est juste c'est la seule chose qui compte le petit peuple des actionnaires de berkshire hathaway boit ses paroles un mélange d'américains de tous âges souvent venus en famille de tout le pays de gestionnaires de fonds et de vrais adeptes qui ont fait le voyage parfois d'asie et d'europe l'atmosphère est bon enfant cela ne veut pas dire que les actionnaires de warren buffett ne manquent pas de moyens l'action a de berkshire hathaway s'échangeait vendredi 2 mai à 70 400 dollars l'unité il est rassurant et réconfortant d'être là souligne debbie stevens une vieille dame d'atlanta je viens tous les ans depuis 1995 vous repartez plus serein ma seule crainte tient à l'âge de warren buffett le jour où il partira il laissera un grand vide que se passera-t-il quand vous disparaîtrez lui demandent depuis plusieurs années ses admirateurs ce sera un événement plus tragique pour moi que pour mes actionnaires répond imperturbablement warren buffett   \n",
      "2                                                                                                                                                                                                                                                                                                                                                                                                                                                                                                                                                                                                                                                                                                                                                                                                                                                                                                                                                                                                                                                                                                                                                                                                                                                                                                                                                                                                                                                                                                                                                                                                                                                                                                                                                                                                                                                                                                                                                                                                                                                                                                                                                                                                                                                                                                                                                                                                                                                                                                                                                                                                                                                                                                                                                                                                                                                                                                                                                                                                                                                                                                                                                                                                                                                                                                                                                                                                                                                                                                                                                                                                                                                                                                                                                                                                                                                                                                                                                                                                                                                                                                                                                                                                                                                                                                                                                                                                                                                                                                                                                                                                                                                                                                                                                                                                                                                                                                                                                                                                                                                                                                                                                                                                                                                                                                                                                                                                                                                                                                                                                                                                                                                                                                                                                                                                                                                      au cours des quatre dernières années les séismes auront fait en turquie plus de 20 000 victimes et nul doute qu'il y en aura hélas beaucoup d'autres la raison de cette fatalité une faille énorme la faille nord-anatolienne fna qui traverse le pays d'est en ouest la turquie et en particulier la région où est située la ville de bingol est en effet au carrefour d'un système complexe de plaques qui s'affrontent en permanence au sud la plaque arabique remonte vers le nord et se cogne à la plaque eurasiatique qu'elle pousse vers l'est prenant en étau la plaque iranienne et celle qui porte l'anatolie et qu'elle chasse vers l'ouest au rythme de plus de 2 centimètres par an résultat les contraintes s'accumulent à la frontière de ces plaques qui coulissent par à-coups brutaux générateurs de séismes dévastateurs dans la partie ouest de la fna en mer de marmara les tensions s'accumulent depuis longtemps ce qui fait craindre aux sismologues le déclenchement d'un tremblement de terre majeur dans la région d'istanbul   \n",
      "3                                                                                                                                                                                                                                                                                                                                                                                                                                                                                                                                                                                                                                                                                                                                                                                                                                                                                                                                                                                                                                                                                                                                                                                                                                                                                                                                                                                                                                                                                                                                                                                                                                                                                                                                                                                                                                                                                                                                                                                                                                                                                                                                                                                                                                                                                                                                                                                                                                                                                                                                                                                                                                                                                                                                                                                                                                                                                                                                                                                                                                                                                                                                                                                                                                                                                                                                                                                                                                                                                                                                                                                                                                                                                                                                                                                                                                                                                                                                                                                                                                                                                                                                                                                                                                                                                                                                                                                                                                                                                                                                                                                                                                                                                                                                                                                                                                                                                                                                                                                                                                                                                                                                                                                                                                                                                                                                                                                                                                                                                                                                                                                                                                                                                                                                                                                                                                                                                                                                                                                                                                                                                                                                                                                                                   une assemblée générale du personnel a voté mercredi soir 18 juin la reprise du travail à radio france où un mouvement de grève a affecté france inter pendant quarante-huit heures un nouveau préavis a été déposé par la cgt et la cfdt pour mercredi 25 juin selon les syndicats la direction n'a pas répondu à toutes les interrogations sur le déménagement d'une partie du personnel de la maison de la radio pour des raisons de sécurité la cfdt et la cgt ont lié la levée effective du préavis à la fin du forcing exercé par la direction pour briser la grève d'un technicien a précisé nicole dalmar de la cfdt selon la direction il y avait 90 grévistes mardi et 23 mercredi   \n",
      "4                                                                                                                                                                                                                                                                                                                                                                                                                                                                                                                                                                                                                                                                                                                                                                                                                                                                                                                                                                                                                                                   les leçons du 21 avril 2002 ouvrent un nouveau chapitre au parti socialiste réunis samedi 8 et dimanche 9 novembre dans un hôtel de noisy-le-grand seine-saint-denis pour un séminaire consacré aux prochaines élections régionales les premiers secrétaires fédéraux du ps devaient découvrir le nouveau chantier que leur propose la direction la création d'une nouvelle catégorie d'adhérents qui bénéficieraient d'un statut particulier sans les mêmes droits et devoirs que leurs aînés une petite révolution dans la gauche française fortement imprégnée jusqu'ici des traditions militantes du mouvement ouvrier ce projet présenté par le secrétaire national aux fédérations françois rebsamen numéro trois du parti permettrait à des sympathisants d'adhérer directement sans passer par les procédures habituelles ils ne seraient plus astreints par exemple à suivre le parcours d'initiation du nouveau être parrainé par un militant d'une section la structure de base puis se présenter devant ladite section au cours d'une cérémonie d'accueil avant de participer plus ou moins régulièrement à ses réunions nous devons prendre la forme d'un parti social-démocrate et pas seulement celle d'un parti d'élus et de militants estime m. rebsamen ce chantier pour lequel la direction veut engager un dialogue avec ses responsables locaux correspond à l'engagement pris par françois hollande en mai lors du congrès de dijon de bâtir un grand parti socialiste le premier secrétaire avait alors promis de faire du ps un parti à 30 des suffrages et d'en doubler les effectifs dans l'espoir de faire naître un parti immergé dans la société un parti au travail un parti à l'écoute un parti rénové au centre l'enjeu c'est l'élargissement expliquait-il ce qui suppose un certain nombre d'évolutions ... de nos pratiques d'accueil dans les fédérations le militantisme n'est pas une affaire d'âge avait ajouté m. hollande en plaidant pour un renouvellement des générations objectif de cette rénovation attirer plus de salariés plus de jeunes et plus de femmes après le choc de la défaite de lionel jospin au premier tour de l'élection présidentielle 19 252 nouveaux adhérents selon les chiffres communiqués par la direction avaient décidé de rejoindre le ps sur 129 500 militants soit 13 des effectifs ces derniers affirme la rue de solférino seraient restés et n'auraient donc pas été rebutés par les obligations du militant de base le 3 décembre 2002 en transférant son inscription de cintegabelle à la section chapelle-goutte d'or du 18e arrondissement de paris m. jospin redevenu simple militant s'était lui-même plié à cette discipline mais à l'avenir le ps souhaite transformer profondément son mode de fonctionnement pour attirer davantage après les élus et les militants un troisième cercle verrait ainsi le jour pour fidéliser des sympathisants électeurs jugés trop volatils un militantisme à la carte selon les saisons politiques nous souffrons de fluctuation car le ps n'a pas assez de force militante souligne m. hollande qui appelle de ses voeux un parti plus réactif et plus moderne raccourcir les délais les nouveaux donc seraient dispensés des contraintes ils pourraient à leur guise participer aux réunions et débats organisés par le parti être destinataires de toutes les publications internes comme l'hebdo des socialistes sans s'impliquer dans sa vie leur cotisation le fameux timbre appelé lui-même dans un futur lointain à disparaître ne serait plus le produit d'une équation à trois termes une part pour le national une autre pour la fédération et une pour la section elle pourrait être forfaitaire et limitée aux deux premiers échelons en contrepartie ces novices ne disposeraient pas du droit de vote pour les congrès ni même pour la désignation de leurs responsables locaux bref ils ne pourraient pas peser sur les orientations du parti ce verrou a été jugé nécessaire pour se protéger de toute forme d'entrisme de même pour éviter que des militants ne soient tentés de changer de catégorie ces nouvelles admissions seraient réservées aux premières inscriptions la nouvelle formule présenterait l'avantage selon la direction de raccourcir considérablement les délais puisqu'il faut aujourd'hui parfois trois ou quatre mois avant de pouvoir devenir adhérent ce projet qui sera d'abord testé dans quelques fédérations et complété par la mise en place d'un nouveau système informatique opérationnel au plus tard le 1er janvier 2005 s'accompagnera d'une campagne d'adhésions après les élections régionales en cas de succès le ps espère bénéficier d'un nouvel afflux d'adhérents en cas de défaite il aura besoin de contenir le découragement ... dimanche après sa présentation les réactions des premiers fédéraux risquent d'être mitigées si l'admission directe existait déjà depuis une décision de m. jospin alors premier secrétaire du ps 1995-1997 les dossiers jusqu'ici leur étaient renvoyés à charge pour ces responsables locaux de prendre contact avec les personnes désireuses de rejoindre le parti c'est donc un peu du pouvoir de ces barons qui serait remis en cause il faut prendre en compte les nouvelles aspirations estime michel morin responsable national des fédérations et premier secrétaire des côtes-d'armor le système traditionnel ne rebute pas mais après le 21 avril 2002 on aurait pu avoir encore plus d'adhérents les fédérations se verront confier un nouveau rôle celui de capteurs le premier fédéral de dordogne michel moyrand devrait ainsi diriger un groupe pilote pour faire faire remonter le ressenti du terrain sur les décisions nationales suivant cet objectif nous sommes coupés de la base qu'est-ce que dit la base   \n",
      "\n",
      "                       Catégorie Prédite  \n",
      "0                      Société française  \n",
      "1  Actualités économiques et entreprises  \n",
      "2             Actualités internationales  \n",
      "3                   Télévision et médias  \n",
      "4             Actualités internationales  \n",
      "\n",
      " Processed 100 articles in 9.45 seconds.\n",
      " Average time per article: 0.09 seconds.\n"
     ]
    }
   ],
   "source": [
    "import time\n",
    "import pandas as pd\n",
    "\n",
    "test_articles = data[\"text\"].sample(100).values\n",
    "\n",
    "\n",
    "start_time = time.time()\n",
    "\n",
    "predictions = []\n",
    "for text in test_articles:\n",
    "    result = classifier(text[:500], class_labels) \n",
    "    predictions.append(result['labels'][0])  \n",
    "\n",
    "end_time = time.time()\n",
    "total_time = end_time - start_time\n",
    "\n",
    "\n",
    "eval_df = pd.DataFrame({\"Article\": test_articles, \"Catégorie Prédite\": predictions})\n",
    "\n",
    "# Show some results\n",
    "print(eval_df.head())\n",
    "\n",
    "# Compute processing time per article\n",
    "avg_time = total_time / len(test_articles)\n",
    "print(f\"\\n Processed {len(test_articles)} articles in {total_time:.2f} seconds.\")\n",
    "print(f\" Average time per article: {avg_time:.2f} seconds.\")\n",
    "    "
   ]
  }
 ],
 "metadata": {
  "kernelspec": {
   "display_name": "Python 3 (ipykernel)",
   "language": "python",
   "name": "python3"
  },
  "language_info": {
   "codemirror_mode": {
    "name": "ipython",
    "version": 3
   },
   "file_extension": ".py",
   "mimetype": "text/x-python",
   "name": "python",
   "nbconvert_exporter": "python",
   "pygments_lexer": "ipython3",
   "version": "3.12.7"
  }
 },
 "nbformat": 4,
 "nbformat_minor": 4
}
